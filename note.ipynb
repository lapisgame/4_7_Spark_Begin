{
 "cells": [
  {
   "cell_type": "code",
   "execution_count": 55,
   "metadata": {},
   "outputs": [],
   "source": [
    "import pandas as pd"
   ]
  },
  {
   "cell_type": "code",
   "execution_count": 56,
   "metadata": {},
   "outputs": [],
   "source": [
    "from pyspark.sql import SparkSession\n",
    "from pyspark.sql import Window\n",
    "from pyspark.sql.functions import *\n",
    "import pyspark.sql.functions as F"
   ]
  },
  {
   "cell_type": "code",
   "execution_count": 57,
   "metadata": {},
   "outputs": [],
   "source": [
    "df = pd.read_excel(\"online_retail.xlsx\")\n",
    "df.to_csv('online_retail.csv', index=False)"
   ]
  },
  {
   "cell_type": "code",
   "execution_count": 58,
   "metadata": {},
   "outputs": [],
   "source": [
    "spark = SparkSession.builder \\\n",
    "  .master(\"local[1]\") \\\n",
    "  .appName(\"SparkFirst\") \\\n",
    "  .appName(\"Timeout Troubleshooting\") \\\n",
    "  .config(\"spark.executor.memory\", \"12g\")\\\n",
    "  .config(\"spark.executor.cores\", 8) \\\n",
    "  .config(\"spark.dynamicAllocation.enabled\", \"true\") \\\n",
    "  .config(\"spark.dynamicAllocation.maxExecutors\", 100) \\\n",
    "  .config(\"spark.network.timeout\", \"600s\") \\\n",
    "  .config(\"spark.shuffle.service.enabled\", \"true\") \\\n",
    ".getOrCreate()"
   ]
  },
  {
   "cell_type": "code",
   "execution_count": 59,
   "metadata": {},
   "outputs": [],
   "source": [
    "df = spark.read.csv('online_retail.csv', header=True)"
   ]
  },
  {
   "cell_type": "code",
   "execution_count": 60,
   "metadata": {},
   "outputs": [
    {
     "name": "stdout",
     "output_type": "stream",
     "text": [
      "+---------+---------+--------------------+--------+-------------------+---------+----------+--------------+\n",
      "|InvoiceNo|StockCode|         Description|Quantity|        InvoiceDate|UnitPrice|CustomerID|       Country|\n",
      "+---------+---------+--------------------+--------+-------------------+---------+----------+--------------+\n",
      "|   536365|   85123A|WHITE HANGING HEA...|       6|2010-12-01 08:26:00|     2.55|   17850.0|United Kingdom|\n",
      "|   536365|    71053| WHITE METAL LANTERN|       6|2010-12-01 08:26:00|     3.39|   17850.0|United Kingdom|\n",
      "|   536365|   84406B|CREAM CUPID HEART...|       8|2010-12-01 08:26:00|     2.75|   17850.0|United Kingdom|\n",
      "+---------+---------+--------------------+--------+-------------------+---------+----------+--------------+\n",
      "only showing top 3 rows\n",
      "\n"
     ]
    }
   ],
   "source": [
    "df.show(3)"
   ]
  },
  {
   "cell_type": "markdown",
   "metadata": {},
   "source": [
    "Количество строк в файле"
   ]
  },
  {
   "cell_type": "code",
   "execution_count": 61,
   "metadata": {},
   "outputs": [
    {
     "name": "stdout",
     "output_type": "stream",
     "text": [
      "Кол-во строк = 541909\n"
     ]
    }
   ],
   "source": [
    "lines_cnt = df.count()\n",
    "print(f'Кол-во строк = {lines_cnt}')"
   ]
  },
  {
   "cell_type": "markdown",
   "metadata": {},
   "source": [
    "Уникальные клиенты"
   ]
  },
  {
   "cell_type": "code",
   "execution_count": 62,
   "metadata": {},
   "outputs": [
    {
     "data": {
      "text/plain": [
       "4373"
      ]
     },
     "execution_count": 62,
     "metadata": {},
     "output_type": "execute_result"
    }
   ],
   "source": [
    "df.select(\"CustomerID\").distinct().count()"
   ]
  },
  {
   "cell_type": "markdown",
   "metadata": {},
   "source": [
    "Страна с максимальными продажами"
   ]
  },
  {
   "cell_type": "code",
   "execution_count": 63,
   "metadata": {},
   "outputs": [
    {
     "name": "stdout",
     "output_type": "stream",
     "text": [
      "+--------------+------+\n",
      "|       Country| count|\n",
      "+--------------+------+\n",
      "|United Kingdom|495478|\n",
      "+--------------+------+\n",
      "\n"
     ]
    }
   ],
   "source": [
    "df.select(\"Country\").groupby(\"Country\").count().sort(\"count\", ascending=False).limit(1).show()"
   ]
  },
  {
   "cell_type": "markdown",
   "metadata": {},
   "source": [
    "Самая ранняя покупка"
   ]
  },
  {
   "cell_type": "code",
   "execution_count": 64,
   "metadata": {},
   "outputs": [
    {
     "name": "stdout",
     "output_type": "stream",
     "text": [
      "+-------------------+\n",
      "|   min(InvoiceDate)|\n",
      "+-------------------+\n",
      "|2010-12-01 08:26:00|\n",
      "+-------------------+\n",
      "\n"
     ]
    }
   ],
   "source": [
    "df.agg({'InvoiceDate':'min'}).show()"
   ]
  },
  {
   "cell_type": "markdown",
   "metadata": {},
   "source": [
    "Самая поздняя покупка"
   ]
  },
  {
   "cell_type": "code",
   "execution_count": 65,
   "metadata": {},
   "outputs": [
    {
     "name": "stdout",
     "output_type": "stream",
     "text": [
      "+-------------------+\n",
      "|   max(InvoiceDate)|\n",
      "+-------------------+\n",
      "|2011-12-09 12:50:00|\n",
      "+-------------------+\n",
      "\n"
     ]
    }
   ],
   "source": [
    "df.agg({'InvoiceDate':'max'}).show()"
   ]
  },
  {
   "cell_type": "markdown",
   "metadata": {},
   "source": [
    "RFM-анализ\n",
    "\n",
    "1) Денежная ценность клиента (monetary_value) - сумма всех покупок клиента\n",
    "2) Частота покупок клиента (frequency) - количество покупок\n",
    "3) Давность (recency) - текущая дата минут дата покупки"
   ]
  },
  {
   "cell_type": "code",
   "execution_count": 66,
   "metadata": {},
   "outputs": [
    {
     "name": "stdout",
     "output_type": "stream",
     "text": [
      "+----------+-----------------+\n",
      "|CustomerID|   Monetary_value|\n",
      "+----------+-----------------+\n",
      "|   15039.0|19786.43999999997|\n",
      "|   16553.0|5664.569999999999|\n",
      "|   13178.0|5725.470000000003|\n",
      "|   17786.0|           278.74|\n",
      "|   12891.0|            331.0|\n",
      "+----------+-----------------+\n",
      "only showing top 5 rows\n",
      "\n"
     ]
    }
   ],
   "source": [
    "df_mon=df.withColumn('Total_sum_order', round(df.UnitPrice * df.Quantity, 2))\\\n",
    "            .groupBy('CustomerID')\\\n",
    "            .agg(sum('Total_sum_order').alias('Monetary_value'))\n",
    "df_mon.show(5)"
   ]
  },
  {
   "cell_type": "code",
   "execution_count": 67,
   "metadata": {},
   "outputs": [
    {
     "name": "stdout",
     "output_type": "stream",
     "text": [
      "+----------+---------+\n",
      "|CustomerID|Frequency|\n",
      "+----------+---------+\n",
      "|   15039.0|     1508|\n",
      "|   16553.0|       86|\n",
      "|   13178.0|      265|\n",
      "|   17786.0|       72|\n",
      "|   12891.0|        3|\n",
      "+----------+---------+\n",
      "only showing top 5 rows\n",
      "\n"
     ]
    }
   ],
   "source": [
    "df_freq = df.groupBy('CustomerID').agg(count('InvoiceNo').alias('Frequency'))\n",
    "df_freq.show(5)"
   ]
  },
  {
   "cell_type": "code",
   "execution_count": 68,
   "metadata": {},
   "outputs": [],
   "source": [
    "today = current_date()"
   ]
  },
  {
   "cell_type": "code",
   "execution_count": 69,
   "metadata": {},
   "outputs": [
    {
     "name": "stdout",
     "output_type": "stream",
     "text": [
      "+----------+-------------------+-------+\n",
      "|CustomerID|           Max_date|Recency|\n",
      "+----------+-------------------+-------+\n",
      "|      null|2011-12-09 10:26:00|   4296|\n",
      "|   12346.0|2011-01-18 10:17:00|   4621|\n",
      "|   12347.0|2011-12-07 15:52:00|   4298|\n",
      "|   12348.0|2011-09-25 13:13:00|   4371|\n",
      "|   12349.0|2011-11-21 09:51:00|   4314|\n",
      "+----------+-------------------+-------+\n",
      "only showing top 5 rows\n",
      "\n"
     ]
    }
   ],
   "source": [
    "df_rec = df.groupBy('CustomerID')\\\n",
    "            .agg(max('InvoiceDate').alias('Max_date'))\n",
    "df_rec = df_rec.withColumn('Recency', datediff(today, df_rec['Max_date']))\n",
    "\n",
    "df_rec.show(5)"
   ]
  },
  {
   "cell_type": "code",
   "execution_count": 70,
   "metadata": {},
   "outputs": [
    {
     "name": "stdout",
     "output_type": "stream",
     "text": [
      "+----------+---------+---------+--------------------+--------+-------------------+---------+--------------+-----------------+---------+-------------------+-------+\n",
      "|CustomerID|InvoiceNo|StockCode|         Description|Quantity|        InvoiceDate|UnitPrice|       Country|   Monetary_value|Frequency|           Max_date|Recency|\n",
      "+----------+---------+---------+--------------------+--------+-------------------+---------+--------------+-----------------+---------+-------------------+-------+\n",
      "|   17850.0|   536365|   85123A|WHITE HANGING HEA...|       6|2010-12-01 08:26:00|     2.55|United Kingdom|5288.630000000009|      312|2011-02-10 14:38:00|   4598|\n",
      "|   17850.0|   536365|    71053| WHITE METAL LANTERN|       6|2010-12-01 08:26:00|     3.39|United Kingdom|5288.630000000009|      312|2011-02-10 14:38:00|   4598|\n",
      "|   17850.0|   536365|   84406B|CREAM CUPID HEART...|       8|2010-12-01 08:26:00|     2.75|United Kingdom|5288.630000000009|      312|2011-02-10 14:38:00|   4598|\n",
      "|   17850.0|   536365|   84029G|KNITTED UNION FLA...|       6|2010-12-01 08:26:00|     3.39|United Kingdom|5288.630000000009|      312|2011-02-10 14:38:00|   4598|\n",
      "|   17850.0|   536365|   84029E|RED WOOLLY HOTTIE...|       6|2010-12-01 08:26:00|     3.39|United Kingdom|5288.630000000009|      312|2011-02-10 14:38:00|   4598|\n",
      "+----------+---------+---------+--------------------+--------+-------------------+---------+--------------+-----------------+---------+-------------------+-------+\n",
      "only showing top 5 rows\n",
      "\n"
     ]
    }
   ],
   "source": [
    "df_new = df.join(df_mon, 'CustomerID', how='inner').join(df_freq, 'CustomerID', how='inner').join(df_rec, 'CustomerID', how='inner')\n",
    "\n",
    "df_new.show(5)"
   ]
  },
  {
   "cell_type": "code",
   "execution_count": 71,
   "metadata": {},
   "outputs": [],
   "source": [
    "quantiles_r = df_new.approxQuantile('Recency', [0.33, 0.66], 0.01)\n",
    "quantiles_f = df_new.approxQuantile('Frequency', [0.33, 0.66], 0.01)\n",
    "quantiles_m = df_new.approxQuantile('Monetary_value', [0.33, 0.66], 0.01)"
   ]
  },
  {
   "cell_type": "code",
   "execution_count": 72,
   "metadata": {},
   "outputs": [],
   "source": [
    "df_new = df_new.withColumn('Recency_factor', when(df_new['Recency'] <= quantiles_r[0], 'C')\n",
    "                .when((df_new['Recency'] > quantiles_r[0]) & (df_new['Recency'] <= quantiles_r[1]), 'B')\n",
    "                .otherwise('A'))"
   ]
  },
  {
   "cell_type": "code",
   "execution_count": 73,
   "metadata": {},
   "outputs": [],
   "source": [
    "df_new = df_new.withColumn('Frequency_factor', when(df_new['Frequency'] <= quantiles_f[0], 'C')\n",
    "                .when((df_new['Frequency'] > quantiles_f[0]) & (df_new['Frequency'] <= quantiles_f[1]), 'B')\n",
    "                .otherwise('A'))"
   ]
  },
  {
   "cell_type": "code",
   "execution_count": 74,
   "metadata": {},
   "outputs": [],
   "source": [
    "df_new = df_new.withColumn('Monetary_factor', when(df_new['Monetary_value'] <= quantiles_m[0], 'C')\n",
    "                .when((df_new['Monetary_value'] > quantiles_m[0]) & (df_new['Monetary_value'] <= quantiles_m[1]), 'B')\n",
    "                .otherwise('A'))"
   ]
  },
  {
   "cell_type": "code",
   "execution_count": 75,
   "metadata": {},
   "outputs": [
    {
     "name": "stdout",
     "output_type": "stream",
     "text": [
      "+----------+---------+---------+--------------------+--------+-------------------+---------+--------------+-----------------+---------+-------------------+-------+--------------+----------------+---------------+\n",
      "|CustomerID|InvoiceNo|StockCode|         Description|Quantity|        InvoiceDate|UnitPrice|       Country|   Monetary_value|Frequency|           Max_date|Recency|Recency_factor|Frequency_factor|Monetary_factor|\n",
      "+----------+---------+---------+--------------------+--------+-------------------+---------+--------------+-----------------+---------+-------------------+-------+--------------+----------------+---------------+\n",
      "|   17850.0|   536365|   85123A|WHITE HANGING HEA...|       6|2010-12-01 08:26:00|     2.55|United Kingdom|5288.630000000009|      312|2011-02-10 14:38:00|   4598|             A|               B|              A|\n",
      "|   17850.0|   536365|    71053| WHITE METAL LANTERN|       6|2010-12-01 08:26:00|     3.39|United Kingdom|5288.630000000009|      312|2011-02-10 14:38:00|   4598|             A|               B|              A|\n",
      "|   17850.0|   536365|   84406B|CREAM CUPID HEART...|       8|2010-12-01 08:26:00|     2.75|United Kingdom|5288.630000000009|      312|2011-02-10 14:38:00|   4598|             A|               B|              A|\n",
      "|   17850.0|   536365|   84029G|KNITTED UNION FLA...|       6|2010-12-01 08:26:00|     3.39|United Kingdom|5288.630000000009|      312|2011-02-10 14:38:00|   4598|             A|               B|              A|\n",
      "|   17850.0|   536365|   84029E|RED WOOLLY HOTTIE...|       6|2010-12-01 08:26:00|     3.39|United Kingdom|5288.630000000009|      312|2011-02-10 14:38:00|   4598|             A|               B|              A|\n",
      "+----------+---------+---------+--------------------+--------+-------------------+---------+--------------+-----------------+---------+-------------------+-------+--------------+----------------+---------------+\n",
      "only showing top 5 rows\n",
      "\n"
     ]
    }
   ],
   "source": [
    "df_new.show(5)"
   ]
  },
  {
   "cell_type": "code",
   "execution_count": 76,
   "metadata": {},
   "outputs": [],
   "source": [
    "rfm_table = df_new.withColumn('groups', F.concat(F.col('Recency_factor'),F.col('Frequency_factor'),F.col('Monetary_factor')))"
   ]
  },
  {
   "cell_type": "code",
   "execution_count": 77,
   "metadata": {},
   "outputs": [
    {
     "name": "stdout",
     "output_type": "stream",
     "text": [
      "+----------+-------+---------+-----------------+--------------+----------------+---------------+------+\n",
      "|CustomerID|Recency|Frequency|   Monetary_value|Recency_factor|Frequency_factor|Monetary_factor|groups|\n",
      "+----------+-------+---------+-----------------+--------------+----------------+---------------+------+\n",
      "|   15039.0|   4305|     1508|19786.43999999997|             B|               A|              A|   BAA|\n",
      "|   15039.0|   4305|     1508|19786.43999999997|             B|               A|              A|   BAA|\n",
      "|   15039.0|   4305|     1508|19786.43999999997|             B|               A|              A|   BAA|\n",
      "|   15039.0|   4305|     1508|19786.43999999997|             B|               A|              A|   BAA|\n",
      "|   15039.0|   4305|     1508|19786.43999999997|             B|               A|              A|   BAA|\n",
      "+----------+-------+---------+-----------------+--------------+----------------+---------------+------+\n",
      "only showing top 5 rows\n",
      "\n"
     ]
    }
   ],
   "source": [
    "rfm_table.select('CustomerID', \n",
    "                 'Recency', 'Frequency', 'Monetary_value', \n",
    "                 'Recency_factor', 'Frequency_factor', 'Monetary_factor', \n",
    "                 'groups').show(5)"
   ]
  },
  {
   "cell_type": "code",
   "execution_count": 78,
   "metadata": {},
   "outputs": [],
   "source": [
    "best_clients = rfm_table.select('CustomerID').filter(rfm_table.groups == 'AAA').distinct()"
   ]
  },
  {
   "cell_type": "code",
   "execution_count": 79,
   "metadata": {},
   "outputs": [],
   "source": [
    "best_clients.toPandas().to_csv('best_clients.csv', index=False)"
   ]
  }
 ],
 "metadata": {
  "kernelspec": {
   "display_name": "Python 3",
   "language": "python",
   "name": "python3"
  },
  "language_info": {
   "codemirror_mode": {
    "name": "ipython",
    "version": 3
   },
   "file_extension": ".py",
   "mimetype": "text/x-python",
   "name": "python",
   "nbconvert_exporter": "python",
   "pygments_lexer": "ipython3",
   "version": "3.11.4"
  },
  "orig_nbformat": 4
 },
 "nbformat": 4,
 "nbformat_minor": 2
}
