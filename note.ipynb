{
 "cells": [
  {
   "cell_type": "code",
   "execution_count": 74,
   "metadata": {},
   "outputs": [],
   "source": [
    "import pandas as pd\n",
    "from pyspark.sql import SparkSession\n",
    "from pyspark.sql.types import *\n",
    "import pyspark.sql.functions as F\n",
    "from pyspark.sql.functions import count_distinct\n",
    "from pyspark.sql.functions import count\n",
    "from pyspark.sql.functions import round\n",
    "from pyspark.sql.functions import sum"
   ]
  },
  {
   "cell_type": "code",
   "execution_count": 75,
   "metadata": {},
   "outputs": [],
   "source": [
    "df = pd.read_excel(\"online_retail.xlsx\")\n",
    "df.to_csv('online_retail.csv', index=False)"
   ]
  },
  {
   "cell_type": "code",
   "execution_count": 76,
   "metadata": {},
   "outputs": [],
   "source": [
    "spark = SparkSession \\\n",
    "    .builder \\\n",
    "    .appName(\"Python Spark SQL basic example\") \\\n",
    "    .config(\"spark.some.config.option\", \"some-value\") \\\n",
    "    .getOrCreate()"
   ]
  },
  {
   "cell_type": "code",
   "execution_count": 84,
   "metadata": {},
   "outputs": [],
   "source": [
    "# Создание датафрейма\n",
    "schema = StructType([\n",
    "    StructField(\"InvoiceNo\", StringType(), True),\n",
    "    StructField(\"StockCode\", StringType(), True),\n",
    "    StructField(\"Description\", StringType(), True),\n",
    "    StructField(\"Quantity\", IntegerType(), True),\n",
    "    StructField(\"InvoiceDate\", TimestampNTZType(), True),\n",
    "    StructField(\"UnitPrice\", DoubleType(), True),\n",
    "    StructField(\"CustomerID\", FloatType(), True),\n",
    "    StructField(\"Country\", StringType(), True),\n",
    "    ])\n",
    "\n",
    "df = spark.read.csv('online_retail.csv', sep = \",\", header=True, schema=schema)"
   ]
  },
  {
   "cell_type": "code",
   "execution_count": 85,
   "metadata": {},
   "outputs": [
    {
     "data": {
      "text/plain": [
       "541909"
      ]
     },
     "execution_count": 85,
     "metadata": {},
     "output_type": "execute_result"
    }
   ],
   "source": [
    "#Количество строк\n",
    "df.count()"
   ]
  },
  {
   "cell_type": "code",
   "execution_count": 87,
   "metadata": {},
   "outputs": [
    {
     "name": "stdout",
     "output_type": "stream",
     "text": [
      "+--------------------------+\n",
      "|count(DISTINCT CustomerID)|\n",
      "+--------------------------+\n",
      "|                      4372|\n",
      "+--------------------------+\n",
      "\n"
     ]
    }
   ],
   "source": [
    "#Уникальные клиенты\n",
    "df.select(count_distinct(\"CustomerID\")).show()"
   ]
  },
  {
   "cell_type": "code",
   "execution_count": 88,
   "metadata": {},
   "outputs": [
    {
     "name": "stdout",
     "output_type": "stream",
     "text": [
      "+--------------+------+\n",
      "|       Country| count|\n",
      "+--------------+------+\n",
      "|United Kingdom|495478|\n",
      "+--------------+------+\n",
      "\n"
     ]
    }
   ],
   "source": [
    "#Страна с максимальными продажами\n",
    "df.select(\"Country\").groupby(\"Country\").count().sort(\"count\", ascending=False).limit(1).show()"
   ]
  },
  {
   "cell_type": "code",
   "execution_count": 89,
   "metadata": {},
   "outputs": [
    {
     "name": "stdout",
     "output_type": "stream",
     "text": [
      "+-------------------+\n",
      "|   min(InvoiceDate)|\n",
      "+-------------------+\n",
      "|2010-12-01 08:26:00|\n",
      "+-------------------+\n",
      "\n"
     ]
    }
   ],
   "source": [
    "#Самая ранняя покупка\n",
    "df.agg({'InvoiceDate':'min'}).show()"
   ]
  },
  {
   "cell_type": "code",
   "execution_count": 90,
   "metadata": {},
   "outputs": [
    {
     "name": "stdout",
     "output_type": "stream",
     "text": [
      "+-------------------+\n",
      "|   max(InvoiceDate)|\n",
      "+-------------------+\n",
      "|2011-12-09 12:50:00|\n",
      "+-------------------+\n",
      "\n"
     ]
    }
   ],
   "source": [
    "#Самая поздняя покупка\n",
    "df.agg({'InvoiceDate':'max'}).show()"
   ]
  },
  {
   "cell_type": "code",
   "execution_count": 91,
   "metadata": {},
   "outputs": [],
   "source": [
    "def agg_count_df(df):\n",
    "    df.agg(*[count(c).alias(c) for c in df.columns]).show()"
   ]
  },
  {
   "cell_type": "code",
   "execution_count": 92,
   "metadata": {},
   "outputs": [
    {
     "name": "stdout",
     "output_type": "stream",
     "text": [
      "+---------+---------+-----------+--------+-----------+---------+----------+-------+\n",
      "|InvoiceNo|StockCode|Description|Quantity|InvoiceDate|UnitPrice|CustomerID|Country|\n",
      "+---------+---------+-----------+--------+-----------+---------+----------+-------+\n",
      "|   541909|   541909|     540455|  541909|     541909|   541909|    406829| 541909|\n",
      "+---------+---------+-----------+--------+-----------+---------+----------+-------+\n",
      "\n"
     ]
    }
   ],
   "source": [
    "agg_count_df(df)"
   ]
  },
  {
   "cell_type": "code",
   "execution_count": 93,
   "metadata": {},
   "outputs": [
    {
     "name": "stdout",
     "output_type": "stream",
     "text": [
      "+---------+---------+-----------+--------+-----------+---------+----------+-------+\n",
      "|InvoiceNo|StockCode|Description|Quantity|InvoiceDate|UnitPrice|CustomerID|Country|\n",
      "+---------+---------+-----------+--------+-----------+---------+----------+-------+\n",
      "|   406829|   406829|     406829|  406829|     406829|   406829|    406829| 406829|\n",
      "+---------+---------+-----------+--------+-----------+---------+----------+-------+\n",
      "\n"
     ]
    }
   ],
   "source": [
    "# Удалим записи с нулевыми значениями из набора данных чтобы количество записей было ровное\n",
    "df_clean = df.dropna(how='any')\n",
    "agg_count_df(df_clean)"
   ]
  },
  {
   "cell_type": "code",
   "execution_count": 94,
   "metadata": {},
   "outputs": [],
   "source": [
    "recency = df_clean.withColumn('recency', F.datediff(F.current_date(), df_clean.InvoiceDate))"
   ]
  },
  {
   "cell_type": "code",
   "execution_count": 95,
   "metadata": {},
   "outputs": [
    {
     "name": "stdout",
     "output_type": "stream",
     "text": [
      "+----------+---------+\n",
      "|CustomerID|frequency|\n",
      "+----------+---------+\n",
      "|      4372|     4372|\n",
      "+----------+---------+\n",
      "\n",
      "+----------+---------+\n",
      "|CustomerID|frequency|\n",
      "+----------+---------+\n",
      "|   17323.0|        9|\n",
      "|   13999.0|       15|\n",
      "|   15512.0|        2|\n",
      "|   12714.0|        5|\n",
      "|   16156.0|       13|\n",
      "+----------+---------+\n",
      "only showing top 5 rows\n",
      "\n"
     ]
    }
   ],
   "source": [
    "# расчет показателя \"frequency\", создание нового датасета.\n",
    "frequency = df_clean.groupBy('CustomerID', 'InvoiceNo').count().\\\n",
    "                           groupBy('CustomerID').agg(count(\"*\").alias(\"frequency\"))\n",
    "agg_count_df(frequency)\n",
    "frequency.show(5)"
   ]
  },
  {
   "cell_type": "code",
   "execution_count": 96,
   "metadata": {},
   "outputs": [],
   "source": [
    "# расчет значения \"TotalPrice\", создание нового столбца с данными значениями\n",
    "total_price_clean = df_clean.withColumn('TotalPrice', round( df.Quantity * df.UnitPrice, 2 ) )"
   ]
  },
  {
   "cell_type": "code",
   "execution_count": 97,
   "metadata": {},
   "outputs": [
    {
     "name": "stdout",
     "output_type": "stream",
     "text": [
      "+----------+--------+\n",
      "|CustomerID|monetary|\n",
      "+----------+--------+\n",
      "|   13999.0| 3865.26|\n",
      "|   15512.0|   121.0|\n",
      "|   13305.0| 2000.86|\n",
      "|   15640.0|12433.34|\n",
      "|   13094.0| 1708.86|\n",
      "+----------+--------+\n",
      "only showing top 5 rows\n",
      "\n"
     ]
    }
   ],
   "source": [
    "# расчет показателя \"monetary\", создание нового датасета\n",
    "monetary = total_price_clean.groupBy(\"CustomerID\").agg(round(sum('TotalPrice'),2).alias('monetary'))\n",
    "monetary.show(5)"
   ]
  },
  {
   "cell_type": "code",
   "execution_count": 98,
   "metadata": {},
   "outputs": [
    {
     "name": "stdout",
     "output_type": "stream",
     "text": [
      "+----------+---------+---------+--------------------+--------+-------------------+---------+--------------+-------+---------+--------+\n",
      "|CustomerID|InvoiceNo|StockCode|         Description|Quantity|        InvoiceDate|UnitPrice|       Country|recency|frequency|monetary|\n",
      "+----------+---------+---------+--------------------+--------+-------------------+---------+--------------+-------+---------+--------+\n",
      "|   17850.0|   536365|   85123A|WHITE HANGING HEA...|       6|2010-12-01 08:26:00|     2.55|United Kingdom|   4659|       35| 5288.63|\n",
      "|   17850.0|   536365|    71053| WHITE METAL LANTERN|       6|2010-12-01 08:26:00|     3.39|United Kingdom|   4659|       35| 5288.63|\n",
      "|   17850.0|   536365|   84406B|CREAM CUPID HEART...|       8|2010-12-01 08:26:00|     2.75|United Kingdom|   4659|       35| 5288.63|\n",
      "|   17850.0|   536365|   84029G|KNITTED UNION FLA...|       6|2010-12-01 08:26:00|     3.39|United Kingdom|   4659|       35| 5288.63|\n",
      "|   17850.0|   536365|   84029E|RED WOOLLY HOTTIE...|       6|2010-12-01 08:26:00|     3.39|United Kingdom|   4659|       35| 5288.63|\n",
      "+----------+---------+---------+--------------------+--------+-------------------+---------+--------------+-------+---------+--------+\n",
      "only showing top 5 rows\n",
      "\n"
     ]
    }
   ],
   "source": [
    "# добавление новых столбцов в датасет\n",
    "total_price_new = recency.join(frequency, 'CustomerID', how = 'inner').join(monetary, 'CustomerID', how = 'inner')\n",
    "total_price_new.show(5)"
   ]
  },
  {
   "cell_type": "code",
   "execution_count": 99,
   "metadata": {},
   "outputs": [
    {
     "name": "stdout",
     "output_type": "stream",
     "text": [
      "+-------+-----------------+-----------------+------------------+\n",
      "|summary|          recency|        frequency|          monetary|\n",
      "+-------+-----------------+-----------------+------------------+\n",
      "|  count|           406829|           406829|            406829|\n",
      "|   mean|4437.863667535992|23.22480698278638|11067.338028559558|\n",
      "| stddev|112.8505892969814| 45.4994555163778|30144.694797603934|\n",
      "|    min|             4286|                1|          -4287.63|\n",
      "|    25%|             4336|                4|           1084.34|\n",
      "|    50%|             4417|                8|           2616.32|\n",
      "|    75%|             4533|               18|            6147.4|\n",
      "|    max|             4659|              248|         279489.02|\n",
      "+-------+-----------------+-----------------+------------------+\n",
      "\n"
     ]
    }
   ],
   "source": [
    "total_price_new.select('recency','frequency','monetary').summary().show()"
   ]
  },
  {
   "cell_type": "code",
   "execution_count": 100,
   "metadata": {},
   "outputs": [
    {
     "name": "stdout",
     "output_type": "stream",
     "text": [
      "+----------+---------+---------+--------------------+--------+-------------------+---------+--------------+-------+---------+--------+-------------+---------------+--------------+\n",
      "|CustomerID|InvoiceNo|StockCode|         Description|Quantity|        InvoiceDate|UnitPrice|       Country|recency|frequency|monetary|recency_group|frequency_group|monetary_group|\n",
      "+----------+---------+---------+--------------------+--------+-------------------+---------+--------------+-------+---------+--------+-------------+---------------+--------------+\n",
      "|   17850.0|   536365|   85123A|WHITE HANGING HEA...|       6|2010-12-01 08:26:00|     2.55|United Kingdom|   4659|       35| 5288.63|            C|              A|             B|\n",
      "|   17850.0|   536365|    71053| WHITE METAL LANTERN|       6|2010-12-01 08:26:00|     3.39|United Kingdom|   4659|       35| 5288.63|            C|              A|             B|\n",
      "|   17850.0|   536365|   84406B|CREAM CUPID HEART...|       8|2010-12-01 08:26:00|     2.75|United Kingdom|   4659|       35| 5288.63|            C|              A|             B|\n",
      "|   17850.0|   536365|   84029G|KNITTED UNION FLA...|       6|2010-12-01 08:26:00|     3.39|United Kingdom|   4659|       35| 5288.63|            C|              A|             B|\n",
      "|   17850.0|   536365|   84029E|RED WOOLLY HOTTIE...|       6|2010-12-01 08:26:00|     3.39|United Kingdom|   4659|       35| 5288.63|            C|              A|             B|\n",
      "+----------+---------+---------+--------------------+--------+-------------------+---------+--------------+-------+---------+--------+-------------+---------------+--------------+\n",
      "only showing top 5 rows\n",
      "\n"
     ]
    }
   ],
   "source": [
    "total_price_new = total_price_new.withColumn('recency_group', F.when(F.col(\"recency\")>4409, \"C\")\\\n",
    "                                            .when(F.col('recency') > 4325, \"B\")\\\n",
    "                                            .otherwise(\"A\"))\n",
    "total_price_new = total_price_new.withColumn('frequency_group', F.when(F.col(\"frequency\")< 8, \"C\")\\\n",
    "                                            .when(F.col('frequency') < 18, \"B\")\\\n",
    "                                            .otherwise(\"A\"))\n",
    "total_price_new = total_price_new.withColumn('monetary_group', F.when(F.col(\"monetary\")< 2616, \"C\")\\\n",
    "                                            .when(F.col('monetary') < 6147, \"B\")\\\n",
    "                                            .otherwise(\"A\"))\n",
    "total_price_new.show(5)"
   ]
  },
  {
   "cell_type": "code",
   "execution_count": 101,
   "metadata": {},
   "outputs": [
    {
     "name": "stdout",
     "output_type": "stream",
     "text": [
      "+----------+-------+---------+--------+-------------+---------------+--------------+------+\n",
      "|CustomerID|recency|frequency|monetary|recency_group|frequency_group|monetary_group|groups|\n",
      "+----------+-------+---------+--------+-------------+---------------+--------------+------+\n",
      "|   17323.0|   4301|        9|  908.99|            A|              B|             C|   ABC|\n",
      "|   17323.0|   4301|        9|  908.99|            A|              B|             C|   ABC|\n",
      "|   17323.0|   4301|        9|  908.99|            A|              B|             C|   ABC|\n",
      "|   17323.0|   4305|        9|  908.99|            A|              B|             C|   ABC|\n",
      "|   17323.0|   4305|        9|  908.99|            A|              B|             C|   ABC|\n",
      "+----------+-------+---------+--------+-------------+---------------+--------------+------+\n",
      "only showing top 5 rows\n",
      "\n"
     ]
    }
   ],
   "source": [
    "total_price_new = total_price_new.withColumn('groups',\n",
    "                                            F.concat(F.col('recency_group'),F.col('frequency_group'),F.col('monetary_group')))\n",
    "total_price_new.select('CustomerID','recency','frequency','monetary','recency_group','frequency_group','monetary_group', 'groups').show(5)"
   ]
  },
  {
   "cell_type": "code",
   "execution_count": 102,
   "metadata": {},
   "outputs": [
    {
     "name": "stdout",
     "output_type": "stream",
     "text": [
      "+----------+\n",
      "|CustomerID|\n",
      "+----------+\n",
      "|   17315.0|\n",
      "|   16746.0|\n",
      "|   12748.0|\n",
      "|   15039.0|\n",
      "|   16729.0|\n",
      "+----------+\n",
      "only showing top 5 rows\n",
      "\n"
     ]
    }
   ],
   "source": [
    "result = total_price_new.select(['CustomerID']).filter(total_price_new.groups == 'AAA').distinct()\n",
    "result.show(5)"
   ]
  },
  {
   "cell_type": "code",
   "execution_count": 103,
   "metadata": {},
   "outputs": [],
   "source": [
    "result.toPandas().to_csv('result.csv', index = False)"
   ]
  }
 ],
 "metadata": {
  "kernelspec": {
   "display_name": "Python 3",
   "language": "python",
   "name": "python3"
  },
  "language_info": {
   "codemirror_mode": {
    "name": "ipython",
    "version": 3
   },
   "file_extension": ".py",
   "mimetype": "text/x-python",
   "name": "python",
   "nbconvert_exporter": "python",
   "pygments_lexer": "ipython3",
   "version": "3.11.4"
  },
  "orig_nbformat": 4
 },
 "nbformat": 4,
 "nbformat_minor": 2
}
